{
 "cells": [
  {
   "cell_type": "code",
   "execution_count": 51,
   "id": "d27e6afd",
   "metadata": {},
   "outputs": [],
   "source": [
    "# Importing Libraries\n",
    "import pandas as pd\n",
    "import numpy as np\n",
    "import seaborn as sns\n",
    "import matplotlib.pyplot as plt\n",
    "from sklearn.linear_model import LogisticRegression\n",
    "from sklearn.preprocessing import LabelEncoder"
   ]
  },
  {
   "cell_type": "code",
   "execution_count": 52,
   "id": "e76fecdf",
   "metadata": {},
   "outputs": [
    {
     "data": {
      "text/plain": [
       "PassengerId      0\n",
       "Survived         0\n",
       "Pclass           0\n",
       "Name             0\n",
       "Sex              0\n",
       "Age            177\n",
       "SibSp            0\n",
       "Parch            0\n",
       "Ticket           0\n",
       "Fare             0\n",
       "Cabin          687\n",
       "Embarked         2\n",
       "dtype: int64"
      ]
     },
     "execution_count": 52,
     "metadata": {},
     "output_type": "execute_result"
    }
   ],
   "source": [
    "data=pd.read_csv(\"data/train.csv\")\n",
    "# Checking no of null values in our dataset\n",
    "data.isnull().sum()"
   ]
  },
  {
   "cell_type": "code",
   "execution_count": 53,
   "id": "6a370fc2",
   "metadata": {},
   "outputs": [
    {
     "name": "stdout",
     "output_type": "stream",
     "text": [
      "Available columns: ['PassengerId', 'Survived', 'Pclass', 'Name', 'Sex', 'Age', 'SibSp', 'Parch', 'Ticket', 'Fare', 'Cabin', 'Embarked', 'Sex_encoded']\n"
     ]
    }
   ],
   "source": [
    "# Turning Gender to num vals\n",
    "le = LabelEncoder()\n",
    "data['Sex_encoded'] = le.fit_transform(data['Sex'])\n",
    "print(\"Available columns:\", data.columns.tolist())"
   ]
  },
  {
   "cell_type": "code",
   "execution_count": 54,
   "id": "903b3417",
   "metadata": {},
   "outputs": [
    {
     "name": "stdout",
     "output_type": "stream",
     "text": [
      "0                       Owen Braund\n",
      "1    Florence Briggs Thayer Cumings\n",
      "2                   Laina Heikkinen\n",
      "3            Lily May Peel Futrelle\n",
      "4                     William Allen\n",
      "Name: Title, dtype: object\n"
     ]
    }
   ],
   "source": [
    "# Fixing Name Column (first remove Mr,Mrs etc and any other trash , format - name surname)\n",
    "def clean_name(df, colname='Name'):\n",
    "    df = df.copy()\n",
    "    \n",
    "    # Last Name\n",
    "    df['LastName'] = df[colname].str.split(',').str[0].str.strip()\n",
    "    \n",
    "    # Everything after the comma\n",
    "    rest = df[colname].str.split(',').str[1].str.strip()\n",
    "    \n",
    "    # Extract actual Title (Mr., Mrs., etc.) \n",
    "    df['Honorific'] = rest.str.split().str[0]\n",
    "    \n",
    "    # First name (if in parentheses)\n",
    "    df['FirstName'] = rest.str.extract(r'\\((.*?)\\)')\n",
    "    \n",
    "    # If parentheses missing, take next word after title\n",
    "    df['FirstName'] = df['FirstName'].fillna(rest.str.split().str[1])\n",
    "    \n",
    "    # Title: FirstName + LastName, both stripped\n",
    "    df['Title'] = (df['FirstName'].apply(lambda x: ' '.join(str(x).split())) \n",
    "                   + ' ' + df['LastName'].apply(lambda x: ' '.join(str(x).split())))\n",
    "    \n",
    "    # remove extra spaces\n",
    "    df['Title'] = df['Title'].apply(lambda x: ' '.join(str(x).split()))\n",
    "    \n",
    "    return df\n",
    "data = clean_name(data, 'Name')\n",
    "print(data['Title'].head())\n",
    "# data.to_csv('cleaned_data.csv', index=False)\n"
   ]
  },
  {
   "cell_type": "code",
   "execution_count": null,
   "id": "ba60ad70",
   "metadata": {},
   "outputs": [],
   "source": [
    "# Fill missing 'Age' with the median age per group (e.g., 'Sex' and 'Pclass')\n",
    "data['Age'] = data.groupby(['Sex', 'Pclass'])['Age'].transform(lambda x: x.fillna(x.median()))\n",
    "\n",
    "# merging parch(parent children) sibsp(sibling,spouse)\n",
    "data['Family']=data['Parch']+data['SibSp']\n",
    "\n",
    "# Filling missing vals in Embarked\n",
    "data['Embarked']=data['Embarked'].fillna('S')\n",
    "\n",
    "#For cabin coln using a col having 0/1 for having/;not having col\n",
    "data['Has_Cabin'] = data['Cabin'].notna().astype(int)\n",
    "data['Has_Cabin']\n",
    "\n",
    "# Ticket Coln\n",
    "  "
   ]
  }
 ],
 "metadata": {
  "kernelspec": {
   "display_name": "Python 3",
   "language": "python",
   "name": "python3"
  },
  "language_info": {
   "codemirror_mode": {
    "name": "ipython",
    "version": 3
   },
   "file_extension": ".py",
   "mimetype": "text/x-python",
   "name": "python",
   "nbconvert_exporter": "python",
   "pygments_lexer": "ipython3",
   "version": "3.13.0"
  }
 },
 "nbformat": 4,
 "nbformat_minor": 5
}
