{
 "cells": [
  {
   "cell_type": "code",
   "execution_count": 32,
   "id": "d27e6afd",
   "metadata": {},
   "outputs": [],
   "source": [
    "# Importing Libraries\n",
    "import pandas as pd\n",
    "import numpy as np\n",
    "import seaborn as sns\n",
    "import matplotlib.pyplot as plt\n",
    "from sklearn.linear_model import LogisticRegression\n",
    "from sklearn.preprocessing import LabelEncoder"
   ]
  },
  {
   "cell_type": "code",
   "execution_count": null,
   "id": "e76fecdf",
   "metadata": {},
   "outputs": [],
   "source": [
    "data=pd.read_csv(\"data/train.csv\")\n",
    "# Checking no of null values in our dataset\n",
    "data.isnull().sum()"
   ]
  },
  {
   "cell_type": "code",
   "execution_count": 34,
   "id": "6a370fc2",
   "metadata": {},
   "outputs": [],
   "source": [
    "# Turning Gender to num vals\n",
    "le = LabelEncoder()\n",
    "data['Sex_encoded'] = le.fit_transform(data['Sex'])"
   ]
  },
  {
   "cell_type": "code",
   "execution_count": null,
   "id": "903b3417",
   "metadata": {},
   "outputs": [],
   "source": [
    "# Fixing Name Column (first remove Mr,Mrs etc and any other trash , format - name surname)\n",
    "def clean_name(df, colname='Name'):\n",
    "    df = df.copy()\n",
    "    \n",
    "    # Last Name\n",
    "    df['LastName'] = df[colname].str.split(',').str[0].str.strip()\n",
    "    \n",
    "    # Everything after the comma\n",
    "    rest = df[colname].str.split(',').str[1].str.strip()\n",
    "    \n",
    "    # Extract actual Title (Mr., Mrs., etc.) \n",
    "    df['Honorific'] = rest.str.split().str[0]\n",
    "    \n",
    "    # First name (if in parentheses)\n",
    "    df['FirstName'] = rest.str.extract(r'\\((.*?)\\)')\n",
    "    \n",
    "    # If parentheses missing, take next word after title\n",
    "    df['FirstName'] = df['FirstName'].fillna(rest.str.split().str[1])\n",
    "    \n",
    "    # Title: FirstName + LastName, both stripped\n",
    "    df['Title'] = (df['FirstName'].apply(lambda x: ' '.join(str(x).split())) \n",
    "                   + ' ' + df['LastName'].apply(lambda x: ' '.join(str(x).split())))\n",
    "    \n",
    "    # remove extra spaces\n",
    "    df['Title'] = df['Title'].apply(lambda x: ' '.join(str(x).split()))\n",
    "    \n",
    "    return df\n",
    "data = clean_name(data, 'Name')\n",
    "print(data['Title'].head())\n",
    "# data.to_csv('cleaned_data.csv', index=False)\n"
   ]
  },
  {
   "cell_type": "code",
   "execution_count": null,
   "id": "ba60ad70",
   "metadata": {},
   "outputs": [],
   "source": []
  }
 ],
 "metadata": {
  "kernelspec": {
   "display_name": "Python 3",
   "language": "python",
   "name": "python3"
  },
  "language_info": {
   "codemirror_mode": {
    "name": "ipython",
    "version": 3
   },
   "file_extension": ".py",
   "mimetype": "text/x-python",
   "name": "python",
   "nbconvert_exporter": "python",
   "pygments_lexer": "ipython3",
   "version": "3.13.0"
  }
 },
 "nbformat": 4,
 "nbformat_minor": 5
}
